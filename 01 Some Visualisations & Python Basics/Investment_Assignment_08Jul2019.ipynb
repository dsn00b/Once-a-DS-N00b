{
 "cells": [
  {
   "cell_type": "markdown",
   "metadata": {},
   "source": [
    "## Investment Assignment\n",
    "\n",
    "### Basics"
   ]
  },
  {
   "cell_type": "code",
   "execution_count": 1,
   "metadata": {},
   "outputs": [],
   "source": [
    "# import all needed libraries\n",
    "\n",
    "import numpy as np\n",
    "import pandas as pd \n",
    "import chardet as cdet\n",
    "import matplotlib.pyplot as plt\n",
    "import seaborn as sns\n",
    "import textwrap"
   ]
  },
  {
   "cell_type": "markdown",
   "metadata": {},
   "source": [
    "### Solve for file encoding issues\n",
    "\n",
    "Python default encoding gave error as read_csv was executed, so need to find out correct encoding"
   ]
  },
  {
   "cell_type": "code",
   "execution_count": 2,
   "metadata": {},
   "outputs": [
    {
     "name": "stdout",
     "output_type": "stream",
     "text": [
      "{'encoding': 'Windows-1254', 'confidence': 0.461086087463078, 'language': 'Turkish'}\n",
      "{'encoding': 'Windows-1254', 'confidence': 0.4186155476629225, 'language': 'Turkish'}\n"
     ]
    }
   ],
   "source": [
    "# first check encoding in companies file\n",
    "\n",
    "companies = open(\"./companies.txt\", \"rb\").read()\n",
    "result1 = cdet.detect(companies)\n",
    "\n",
    "# then check encoding in rounds2 file\n",
    "\n",
    "rounds = open(\"./rounds2.csv\", \"rb\").read()\n",
    "result2 = cdet.detect(rounds)\n",
    "\n",
    "# print results of chardet package\n",
    "\n",
    "print(result1)\n",
    "print(result2)"
   ]
  },
  {
   "cell_type": "markdown",
   "metadata": {},
   "source": [
    "### Read in the given datasets into Python\n",
    "\n",
    "Using the right encoding -- i.e. iso8859_9, corresponding to Windows-1254 derived above and documentation on Python.org, here https://docs.python.org/2.4/lib/standard-encodings.html"
   ]
  },
  {
   "cell_type": "code",
   "execution_count": 3,
   "metadata": {},
   "outputs": [],
   "source": [
    "# read input data into dataframes\n",
    "\n",
    "orig_company_data = pd.read_csv(\"./companies.txt\", encoding='ISO-8859-9', delimiter=\"\\t\", header=0)\n",
    "orig_fund_rounds_data = pd.read_csv(\"./rounds2.csv\", encoding='ISO-8859-9', header=0) "
   ]
  },
  {
   "cell_type": "markdown",
   "metadata": {},
   "source": [
    "### Initial Note on Data Quality\n",
    "\n",
    "- Column 'permalink' is filled in each row of 'companies' dataset; column 'company_permalink' is filled in each row of 'rounds2' dataset\n",
    "- Column 'funding_round_code' in the rounds2 dataset has too many nulls ~73%, exclude it from analysis\n",
    "- Other columns with < 100% filling can be treated depending upon the analysis need later"
   ]
  },
  {
   "cell_type": "code",
   "execution_count": 4,
   "metadata": {},
   "outputs": [
    {
     "name": "stdout",
     "output_type": "stream",
     "text": [
      "<class 'pandas.core.frame.DataFrame'>\n",
      "RangeIndex: 66368 entries, 0 to 66367\n",
      "Data columns (total 10 columns):\n",
      "permalink        66368 non-null object\n",
      "name             66367 non-null object\n",
      "homepage_url     61310 non-null object\n",
      "category_list    63220 non-null object\n",
      "status           66368 non-null object\n",
      "country_code     59410 non-null object\n",
      "state_code       57821 non-null object\n",
      "region           58338 non-null object\n",
      "city             58340 non-null object\n",
      "founded_at       51147 non-null object\n",
      "dtypes: object(10)\n",
      "memory usage: 5.1+ MB\n"
     ]
    }
   ],
   "source": [
    "orig_company_data.info()"
   ]
  },
  {
   "cell_type": "code",
   "execution_count": 5,
   "metadata": {},
   "outputs": [
    {
     "name": "stdout",
     "output_type": "stream",
     "text": [
      "<class 'pandas.core.frame.DataFrame'>\n",
      "RangeIndex: 114949 entries, 0 to 114948\n",
      "Data columns (total 6 columns):\n",
      "company_permalink          114949 non-null object\n",
      "funding_round_permalink    114949 non-null object\n",
      "funding_round_type         114949 non-null object\n",
      "funding_round_code         31140 non-null object\n",
      "funded_at                  114949 non-null object\n",
      "raised_amount_usd          94959 non-null float64\n",
      "dtypes: float64(1), object(5)\n",
      "memory usage: 5.3+ MB\n"
     ]
    }
   ],
   "source": [
    "orig_fund_rounds_data.info()"
   ]
  },
  {
   "cell_type": "code",
   "execution_count": 6,
   "metadata": {},
   "outputs": [
    {
     "name": "stdout",
     "output_type": "stream",
     "text": [
      "permalink        100.000000\n",
      "name              99.998493\n",
      "homepage_url      92.378857\n",
      "category_list     95.256750\n",
      "status           100.000000\n",
      "country_code      89.516032\n",
      "state_code        87.121806\n",
      "region            87.900796\n",
      "city              87.903809\n",
      "founded_at        77.065755\n",
      "dtype: float64\n",
      "\n",
      "\n",
      "company_permalink          100.000000\n",
      "funding_round_permalink    100.000000\n",
      "funding_round_type         100.000000\n",
      "funding_round_code          27.090275\n",
      "funded_at                  100.000000\n",
      "raised_amount_usd           82.609679\n",
      "dtype: float64\n"
     ]
    }
   ],
   "source": [
    "# % filled values (1 - % missing values) by column\n",
    "\n",
    "print(orig_company_data.count()/orig_company_data['permalink'].count()*100)\n",
    "print('\\n')\n",
    "print(orig_fund_rounds_data.count()/orig_fund_rounds_data['company_permalink'].count()*100)"
   ]
  },
  {
   "cell_type": "markdown",
   "metadata": {},
   "source": [
    "### Clean Up\n",
    "- while working on question 4, observed that 'permalink' and 'company_permalink' columns have variations in case, because of which the merge fails even for the first permalink '/Organization/-Fame' which appears as '/organization/-fame' in rounds2 dataset\n",
    "- hence change both columns into their lowercase versions"
   ]
  },
  {
   "cell_type": "code",
   "execution_count": 7,
   "metadata": {},
   "outputs": [],
   "source": [
    "orig_company_data['permalink'] = orig_company_data['permalink'].str.lower()\n",
    "orig_fund_rounds_data['company_permalink'] = orig_fund_rounds_data['company_permalink'].str.lower()"
   ]
  },
  {
   "cell_type": "markdown",
   "metadata": {},
   "source": [
    "### Primary Keys\n",
    "- based on above steps, we know **companies** dataset has 66368 observations and **rounds2** dataset has 114949\n",
    "- checking for unique column values in each dataset we have **'permalink'** field in **companies** dataset with unique entries in each row; similarly, **'funding_round_permalink'** in **rounds2** dataset\n",
    "- so these two columns are the primary keys of each of these datasets"
   ]
  },
  {
   "cell_type": "code",
   "execution_count": 8,
   "metadata": {},
   "outputs": [
    {
     "name": "stdout",
     "output_type": "stream",
     "text": [
      "permalink        66368\n",
      "name             66102\n",
      "homepage_url     61191\n",
      "category_list    27296\n",
      "status               4\n",
      "country_code       137\n",
      "state_code         311\n",
      "region            1092\n",
      "city              5111\n",
      "founded_at        3978\n",
      "dtype: int64\n",
      "\n",
      "\n",
      "company_permalink           66370\n",
      "funding_round_permalink    114949\n",
      "funding_round_type             14\n",
      "funding_round_code              8\n",
      "funded_at                    5033\n",
      "raised_amount_usd           22095\n",
      "dtype: int64\n"
     ]
    }
   ],
   "source": [
    "print(orig_company_data.nunique())\n",
    "print('\\n')\n",
    "print(orig_fund_rounds_data.nunique())"
   ]
  },
  {
   "cell_type": "markdown",
   "metadata": {},
   "source": [
    "### Checkpoint 1: Data Cleaning\n",
    "\n",
    "#### Question 1\n",
    "How many unique companies are present in rounds2?\n",
    "#### Answer 1\n",
    "66370, since there are as many unique \"company_permalink\" values in the rounds2 dataset, which as per problem statement uniquely identifies companies in dataset"
   ]
  },
  {
   "cell_type": "code",
   "execution_count": 9,
   "metadata": {},
   "outputs": [
    {
     "data": {
      "text/plain": [
       "66370"
      ]
     },
     "execution_count": 9,
     "metadata": {},
     "output_type": "execute_result"
    }
   ],
   "source": [
    "orig_fund_rounds_data['company_permalink'].nunique()"
   ]
  },
  {
   "cell_type": "markdown",
   "metadata": {},
   "source": [
    "#### Question 2\n",
    "How many unique companies are present in companies?\n",
    "#### Answer 2\n",
    "66368, since there are as many unique \"permalink\" values in the companies dataset, which as per problem statement uniquely identifies companies in dataset"
   ]
  },
  {
   "cell_type": "code",
   "execution_count": 10,
   "metadata": {},
   "outputs": [
    {
     "data": {
      "text/plain": [
       "66368"
      ]
     },
     "execution_count": 10,
     "metadata": {},
     "output_type": "execute_result"
    }
   ],
   "source": [
    "orig_company_data['permalink'].nunique()"
   ]
  },
  {
   "cell_type": "markdown",
   "metadata": {},
   "source": [
    "#### Question 3\n",
    "In the companies data frame, which column can be used as the unique key for each company? Write the name of the column.\n",
    "\n",
    "#### Answer 3\n",
    "\"permalink\" (derived above -- pls see \"Primary Key\" section)\n",
    "\n",
    "##### Question 4\n",
    "Are there any companies in the rounds2 file which are not present in companies? Answer yes or no: Y/N\n",
    "\n",
    "#### Answer 4\n",
    "Y, 7 such 'company_permalink' were found"
   ]
  },
  {
   "cell_type": "code",
   "execution_count": 11,
   "metadata": {},
   "outputs": [
    {
     "data": {
      "text/plain": [
       "29597                               /organization/e-cãbica\n",
       "31863          /organization/energystone-games-çµç³æ¸¸æ\n",
       "45176                  /organization/huizuche-com-æ ç§ÿè½¦\n",
       "58473                /organization/magnet-tech-ç£ç³ç§æ\n",
       "101036    /organization/tipcat-interactive-æ²èÿä¿¡æ¯ç...\n",
       "109969               /organization/weiche-tech-åè½¦ç§æ\n",
       "113839                   /organization/zengame-ç¦\n",
       "æ¸¸ç§æ\n",
       "Name: company_permalink, dtype: object"
      ]
     },
     "execution_count": 11,
     "metadata": {},
     "output_type": "execute_result"
    }
   ],
   "source": [
    "orig_fund_rounds_data['company_permalink']\\\n",
    "[~orig_fund_rounds_data['company_permalink'].isin(orig_company_data['permalink'])]"
   ]
  },
  {
   "cell_type": "markdown",
   "metadata": {},
   "source": [
    "##### Question 5\n",
    "Merge the two data frames so that all variables (columns) in the companies frame are added to the rounds2 data frame. Name the merged frame master_frame. How many observations are present in master_frame?\n",
    "\n",
    "#### Answer 5\n",
    "114949"
   ]
  },
  {
   "cell_type": "code",
   "execution_count": 12,
   "metadata": {},
   "outputs": [
    {
     "name": "stdout",
     "output_type": "stream",
     "text": [
      "<class 'pandas.core.frame.DataFrame'>\n",
      "Int64Index: 114949 entries, 0 to 114948\n",
      "Data columns (total 16 columns):\n",
      "company_permalink          114949 non-null object\n",
      "funding_round_permalink    114949 non-null object\n",
      "funding_round_type         114949 non-null object\n",
      "funding_round_code         31140 non-null object\n",
      "funded_at                  114949 non-null object\n",
      "raised_amount_usd          94959 non-null float64\n",
      "permalink                  114942 non-null object\n",
      "name                       114941 non-null object\n",
      "homepage_url               108810 non-null object\n",
      "category_list              111535 non-null object\n",
      "status                     114942 non-null object\n",
      "country_code               106271 non-null object\n",
      "state_code                 104003 non-null object\n",
      "region                     104782 non-null object\n",
      "city                       104785 non-null object\n",
      "founded_at                 94422 non-null object\n",
      "dtypes: float64(1), object(15)\n",
      "memory usage: 14.9+ MB\n"
     ]
    }
   ],
   "source": [
    "master_frame = pd.merge(orig_fund_rounds_data, orig_company_data, \\\n",
    "                        left_on='company_permalink', right_on='permalink', how='left')\n",
    "master_frame.info()"
   ]
  },
  {
   "cell_type": "markdown",
   "metadata": {},
   "source": [
    "### Checkpoint 2: Funding Type Analysis\n",
    "\n",
    "#### Data Prep\n",
    "- Based on constraints shared, must exclude all funding types other than venture, angel, seed, and private equity\n",
    "- Check for missing values of raised_amount_usd, since that is one of the fields to be analysed\n",
    "- Based on the box chart, raised_amount_usd appears to be skewed towards higher values across funding types\n",
    "- Hence, missing values of raised_amount_usd to be imputed with median"
   ]
  },
  {
   "cell_type": "code",
   "execution_count": 13,
   "metadata": {
    "scrolled": false
   },
   "outputs": [
    {
     "name": "stdout",
     "output_type": "stream",
     "text": [
      "funding_round_type\n",
      "angel             79.750574\n",
      "private_equity    84.726477\n",
      "seed              77.326039\n",
      "venture           90.510686\n",
      "dtype: float64\n",
      "                      count          mean           std  min         25%  \\\n",
      "funding_round_type                                                         \n",
      "angel                4860.0  9.586945e+05  7.404397e+06  0.0   150000.00   \n",
      "private_equity       1936.0  7.330859e+07  1.981135e+08  0.0  5000000.00   \n",
      "seed                23603.0  7.198180e+05  2.221733e+06  0.0    55000.00   \n",
      "venture             50228.0  1.174895e+07  8.635207e+07  0.0  1600901.75   \n",
      "\n",
      "                           50%         75%           max  \n",
      "funding_round_type                                        \n",
      "angel                 400000.0   1000000.0  4.945120e+08  \n",
      "private_equity      20000000.0  75000000.0  4.745460e+09  \n",
      "seed                  275000.0   1000000.0  2.000000e+08  \n",
      "venture              5000000.0  12000000.0  1.760000e+10  \n"
     ]
    },
    {
     "data": {
      "image/png": "[encoded data removed]",
      "text/plain": [
       "<Figure size 432x288 with 1 Axes>"
      ]
     },
     "metadata": {
      "needs_background": "light"
     },
     "output_type": "display_data"
    },
    {
     "name": "stdout",
     "output_type": "stream",
     "text": [
      "funding_round_type\n",
      "angel             100.0\n",
      "private_equity    100.0\n",
      "seed              100.0\n",
      "venture           100.0\n",
      "dtype: float64\n"
     ]
    },
    {
     "name": "stderr",
     "output_type": "stream",
     "text": [
      "/Users/stray/miniconda3/lib/python3.7/site-packages/ipykernel_launcher.py:23: SettingWithCopyWarning: \n",
      "A value is trying to be set on a copy of a slice from a DataFrame\n",
      "\n",
      "See the caveats in the documentation: http://pandas.pydata.org/pandas-docs/stable/indexing.html#indexing-view-versus-copy\n",
      "/Users/stray/miniconda3/lib/python3.7/site-packages/ipykernel_launcher.py:27: SettingWithCopyWarning: \n",
      "A value is trying to be set on a copy of a slice from a DataFrame\n",
      "\n",
      "See the caveats in the documentation: http://pandas.pydata.org/pandas-docs/stable/indexing.html#indexing-view-versus-copy\n",
      "/Users/stray/miniconda3/lib/python3.7/site-packages/ipykernel_launcher.py:31: SettingWithCopyWarning: \n",
      "A value is trying to be set on a copy of a slice from a DataFrame\n",
      "\n",
      "See the caveats in the documentation: http://pandas.pydata.org/pandas-docs/stable/indexing.html#indexing-view-versus-copy\n"
     ]
    }
   ],
   "source": [
    "# filter for needed funding types\n",
    "master_frame = master_frame[master_frame['funding_round_type'].isin(['venture', 'seed', 'angel', 'private_equity'])]\n",
    "\n",
    "# review funding amount statistics by funding type\n",
    "\n",
    "grouped_frame = master_frame.groupby('funding_round_type')\n",
    "\n",
    "print(grouped_frame.raised_amount_usd.count() / grouped_frame.funding_round_permalink.count() * 100) # check %rows with filled raised_amount_usd, or 100 - %rows with missing values\n",
    "\n",
    "print(grouped_frame.raised_amount_usd.describe())\n",
    "\n",
    "sns.boxplot(x='funding_round_type', y='raised_amount_usd', data=master_frame)\n",
    "plt.yscale('log')\n",
    "plt.show()\n",
    "\n",
    "# impute missing values with median, since box chart shows that raised_amount_usd appears to be skewed towards higher values across funding types\n",
    "master_frame['raised_amount_usd']\\\n",
    "[(master_frame['funding_round_type'] == 'angel') & (master_frame['raised_amount_usd'].isnull() == True)] = \\\n",
    "grouped_frame.raised_amount_usd.median()['angel']\n",
    "\n",
    "master_frame['raised_amount_usd']\\\n",
    "[(master_frame['funding_round_type'] == 'private_equity') & (master_frame['raised_amount_usd'].isnull() == True)] = \\\n",
    "grouped_frame.raised_amount_usd.median()['private_equity']\n",
    "\n",
    "master_frame['raised_amount_usd']\\\n",
    "[(master_frame['funding_round_type'] == 'seed') & (master_frame['raised_amount_usd'].isnull() == True)] = \\\n",
    "grouped_frame.raised_amount_usd.median()['seed']\n",
    "\n",
    "master_frame['raised_amount_usd']\\\n",
    "[(master_frame['funding_round_type'] == 'venture') & (master_frame['raised_amount_usd'].isnull() == True)] = \\\n",
    "grouped_frame.raised_amount_usd.median()['venture']\n",
    "\n",
    "# post imputation, review missing values\n",
    "\n",
    "print(grouped_frame.raised_amount_usd.count() / grouped_frame.funding_round_permalink.count() * 100)"
   ]
  },
  {
   "cell_type": "markdown",
   "metadata": {},
   "source": [
    "#### Questions 1-4\n",
    "Average / Most representative investment or funding amount for each type of funding round\n",
    "\n",
    "#### Answers 1-4\n",
    "\n",
    "Venture --\tAvg funding amount is USD 11,108,520\n",
    "\n",
    "Angel -- Avg funding amount is USD 845,562\n",
    "\n",
    "Seed -- Avg funding amount is USD 618,960.1\n",
    "\n",
    "Private Equity -- Avg funding amount is USD 65,166,490\n"
   ]
  },
  {
   "cell_type": "code",
   "execution_count": 14,
   "metadata": {
    "scrolled": true
   },
   "outputs": [
    {
     "data": {
      "text/html": [
       "<div>\n",
       "<style scoped>\n",
       "    .dataframe tbody tr th:only-of-type {\n",
       "        vertical-align: middle;\n",
       "    }\n",
       "\n",
       "    .dataframe tbody tr th {\n",
       "        vertical-align: top;\n",
       "    }\n",
       "\n",
       "    .dataframe thead th {\n",
       "        text-align: right;\n",
       "    }\n",
       "</style>\n",
       "<table border=\"1\" class=\"dataframe\">\n",
       "  <thead>\n",
       "    <tr style=\"text-align: right;\">\n",
       "      <th></th>\n",
       "      <th>count</th>\n",
       "      <th>mean</th>\n",
       "      <th>std</th>\n",
       "      <th>min</th>\n",
       "      <th>25%</th>\n",
       "      <th>50%</th>\n",
       "      <th>75%</th>\n",
       "      <th>max</th>\n",
       "    </tr>\n",
       "    <tr>\n",
       "      <th>funding_round_type</th>\n",
       "      <th></th>\n",
       "      <th></th>\n",
       "      <th></th>\n",
       "      <th></th>\n",
       "      <th></th>\n",
       "      <th></th>\n",
       "      <th></th>\n",
       "      <th></th>\n",
       "    </tr>\n",
       "  </thead>\n",
       "  <tbody>\n",
       "    <tr>\n",
       "      <th>angel</th>\n",
       "      <td>6094.0</td>\n",
       "      <td>8.455620e+05</td>\n",
       "      <td>6.616035e+06</td>\n",
       "      <td>0.0</td>\n",
       "      <td>200000.0</td>\n",
       "      <td>400000.0</td>\n",
       "      <td>750000.0</td>\n",
       "      <td>4.945120e+08</td>\n",
       "    </tr>\n",
       "    <tr>\n",
       "      <th>private_equity</th>\n",
       "      <td>2285.0</td>\n",
       "      <td>6.516649e+07</td>\n",
       "      <td>1.833563e+08</td>\n",
       "      <td>0.0</td>\n",
       "      <td>6500000.0</td>\n",
       "      <td>20000000.0</td>\n",
       "      <td>62400000.0</td>\n",
       "      <td>4.745460e+09</td>\n",
       "    </tr>\n",
       "    <tr>\n",
       "      <th>seed</th>\n",
       "      <td>30524.0</td>\n",
       "      <td>6.189601e+05</td>\n",
       "      <td>1.962535e+06</td>\n",
       "      <td>0.0</td>\n",
       "      <td>100000.0</td>\n",
       "      <td>275000.0</td>\n",
       "      <td>660714.0</td>\n",
       "      <td>2.000000e+08</td>\n",
       "    </tr>\n",
       "    <tr>\n",
       "      <th>venture</th>\n",
       "      <td>55494.0</td>\n",
       "      <td>1.110852e+07</td>\n",
       "      <td>8.217658e+07</td>\n",
       "      <td>0.0</td>\n",
       "      <td>2000000.0</td>\n",
       "      <td>5000000.0</td>\n",
       "      <td>10500000.0</td>\n",
       "      <td>1.760000e+10</td>\n",
       "    </tr>\n",
       "  </tbody>\n",
       "</table>\n",
       "</div>"
      ],
      "text/plain": [
       "                      count          mean           std  min        25%  \\\n",
       "funding_round_type                                                        \n",
       "angel                6094.0  8.455620e+05  6.616035e+06  0.0   200000.0   \n",
       "private_equity       2285.0  6.516649e+07  1.833563e+08  0.0  6500000.0   \n",
       "seed                30524.0  6.189601e+05  1.962535e+06  0.0   100000.0   \n",
       "venture             55494.0  1.110852e+07  8.217658e+07  0.0  2000000.0   \n",
       "\n",
       "                           50%         75%           max  \n",
       "funding_round_type                                        \n",
       "angel                 400000.0    750000.0  4.945120e+08  \n",
       "private_equity      20000000.0  62400000.0  4.745460e+09  \n",
       "seed                  275000.0    660714.0  2.000000e+08  \n",
       "venture              5000000.0  10500000.0  1.760000e+10  "
      ]
     },
     "execution_count": 14,
     "metadata": {},
     "output_type": "execute_result"
    }
   ],
   "source": [
    "grouped_frame.raised_amount_usd.describe()"
   ]
  },
  {
   "cell_type": "markdown",
   "metadata": {},
   "source": [
    "#### Question 5\n",
    "Which investment type do you think is the most suitable for Spark Funds?\n",
    "\n",
    "#### Answer 5\n",
    "**Venture** is the most suitable investment type, given:\n",
    "\n",
    "a) Spark Funds wants to invest between 5 to 15 million USD per investment round\n",
    "\n",
    "b) Spark Funds wants to invest where most other investors are investing\n",
    "\n",
    "See below: venture is how most other investors are investing where investment amount is between 5 and 15 M USD"
   ]
  },
  {
   "cell_type": "code",
   "execution_count": 15,
   "metadata": {},
   "outputs": [
    {
     "data": {
      "text/html": [
       "<div>\n",
       "<style scoped>\n",
       "    .dataframe tbody tr th:only-of-type {\n",
       "        vertical-align: middle;\n",
       "    }\n",
       "\n",
       "    .dataframe tbody tr th {\n",
       "        vertical-align: top;\n",
       "    }\n",
       "\n",
       "    .dataframe thead tr th {\n",
       "        text-align: left;\n",
       "    }\n",
       "\n",
       "    .dataframe thead tr:last-of-type th {\n",
       "        text-align: right;\n",
       "    }\n",
       "</style>\n",
       "<table border=\"1\" class=\"dataframe\">\n",
       "  <thead>\n",
       "    <tr>\n",
       "      <th></th>\n",
       "      <th colspan=\"8\" halign=\"left\">raised_amount_usd</th>\n",
       "    </tr>\n",
       "    <tr>\n",
       "      <th></th>\n",
       "      <th>count</th>\n",
       "      <th>mean</th>\n",
       "      <th>std</th>\n",
       "      <th>min</th>\n",
       "      <th>25%</th>\n",
       "      <th>50%</th>\n",
       "      <th>75%</th>\n",
       "      <th>max</th>\n",
       "    </tr>\n",
       "    <tr>\n",
       "      <th>funding_round_type</th>\n",
       "      <th></th>\n",
       "      <th></th>\n",
       "      <th></th>\n",
       "      <th></th>\n",
       "      <th></th>\n",
       "      <th></th>\n",
       "      <th></th>\n",
       "      <th></th>\n",
       "    </tr>\n",
       "  </thead>\n",
       "  <tbody>\n",
       "    <tr>\n",
       "      <th>angel</th>\n",
       "      <td>72.0</td>\n",
       "      <td>7.212355e+06</td>\n",
       "      <td>2.421091e+06</td>\n",
       "      <td>5000000.0</td>\n",
       "      <td>5015000.0</td>\n",
       "      <td>6500000.0</td>\n",
       "      <td>8908096.25</td>\n",
       "      <td>15000000.0</td>\n",
       "    </tr>\n",
       "    <tr>\n",
       "      <th>private_equity</th>\n",
       "      <td>429.0</td>\n",
       "      <td>9.283496e+06</td>\n",
       "      <td>3.140014e+06</td>\n",
       "      <td>5000000.0</td>\n",
       "      <td>6250000.0</td>\n",
       "      <td>9469746.0</td>\n",
       "      <td>11999997.00</td>\n",
       "      <td>15000000.0</td>\n",
       "    </tr>\n",
       "    <tr>\n",
       "      <th>seed</th>\n",
       "      <td>203.0</td>\n",
       "      <td>6.610420e+06</td>\n",
       "      <td>2.107430e+06</td>\n",
       "      <td>5000000.0</td>\n",
       "      <td>5000000.0</td>\n",
       "      <td>6000000.0</td>\n",
       "      <td>7050000.00</td>\n",
       "      <td>15000000.0</td>\n",
       "    </tr>\n",
       "    <tr>\n",
       "      <th>venture</th>\n",
       "      <td>21864.0</td>\n",
       "      <td>7.951983e+06</td>\n",
       "      <td>3.142445e+06</td>\n",
       "      <td>5000000.0</td>\n",
       "      <td>5000000.0</td>\n",
       "      <td>7000000.0</td>\n",
       "      <td>10000000.00</td>\n",
       "      <td>15000000.0</td>\n",
       "    </tr>\n",
       "  </tbody>\n",
       "</table>\n",
       "</div>"
      ],
      "text/plain": [
       "                   raised_amount_usd                                         \\\n",
       "                               count          mean           std        min   \n",
       "funding_round_type                                                            \n",
       "angel                           72.0  7.212355e+06  2.421091e+06  5000000.0   \n",
       "private_equity                 429.0  9.283496e+06  3.140014e+06  5000000.0   \n",
       "seed                           203.0  6.610420e+06  2.107430e+06  5000000.0   \n",
       "venture                      21864.0  7.951983e+06  3.142445e+06  5000000.0   \n",
       "\n",
       "                                                                   \n",
       "                          25%        50%          75%         max  \n",
       "funding_round_type                                                 \n",
       "angel               5015000.0  6500000.0   8908096.25  15000000.0  \n",
       "private_equity      6250000.0  9469746.0  11999997.00  15000000.0  \n",
       "seed                5000000.0  6000000.0   7050000.00  15000000.0  \n",
       "venture             5000000.0  7000000.0  10000000.00  15000000.0  "
      ]
     },
     "execution_count": 15,
     "metadata": {},
     "output_type": "execute_result"
    }
   ],
   "source": [
    "master_frame[(master_frame['raised_amount_usd'] >= 5000000) & (master_frame['raised_amount_usd'] <= 15000000)]\\\n",
    ".groupby('funding_round_type').describe()"
   ]
  },
  {
   "cell_type": "markdown",
   "metadata": {},
   "source": [
    "Even if the 5 to 15 M USD constraint is not applied, venture is how most other investors are investing. See below"
   ]
  },
  {
   "cell_type": "code",
   "execution_count": 16,
   "metadata": {},
   "outputs": [
    {
     "data": {
      "text/html": [
       "<div>\n",
       "<style scoped>\n",
       "    .dataframe tbody tr th:only-of-type {\n",
       "        vertical-align: middle;\n",
       "    }\n",
       "\n",
       "    .dataframe tbody tr th {\n",
       "        vertical-align: top;\n",
       "    }\n",
       "\n",
       "    .dataframe thead tr th {\n",
       "        text-align: left;\n",
       "    }\n",
       "\n",
       "    .dataframe thead tr:last-of-type th {\n",
       "        text-align: right;\n",
       "    }\n",
       "</style>\n",
       "<table border=\"1\" class=\"dataframe\">\n",
       "  <thead>\n",
       "    <tr>\n",
       "      <th></th>\n",
       "      <th colspan=\"8\" halign=\"left\">raised_amount_usd</th>\n",
       "    </tr>\n",
       "    <tr>\n",
       "      <th></th>\n",
       "      <th>count</th>\n",
       "      <th>mean</th>\n",
       "      <th>std</th>\n",
       "      <th>min</th>\n",
       "      <th>25%</th>\n",
       "      <th>50%</th>\n",
       "      <th>75%</th>\n",
       "      <th>max</th>\n",
       "    </tr>\n",
       "    <tr>\n",
       "      <th>funding_round_type</th>\n",
       "      <th></th>\n",
       "      <th></th>\n",
       "      <th></th>\n",
       "      <th></th>\n",
       "      <th></th>\n",
       "      <th></th>\n",
       "      <th></th>\n",
       "      <th></th>\n",
       "    </tr>\n",
       "  </thead>\n",
       "  <tbody>\n",
       "    <tr>\n",
       "      <th>angel</th>\n",
       "      <td>6094.0</td>\n",
       "      <td>8.455620e+05</td>\n",
       "      <td>6.616035e+06</td>\n",
       "      <td>0.0</td>\n",
       "      <td>200000.0</td>\n",
       "      <td>400000.0</td>\n",
       "      <td>750000.0</td>\n",
       "      <td>4.945120e+08</td>\n",
       "    </tr>\n",
       "    <tr>\n",
       "      <th>private_equity</th>\n",
       "      <td>2285.0</td>\n",
       "      <td>6.516649e+07</td>\n",
       "      <td>1.833563e+08</td>\n",
       "      <td>0.0</td>\n",
       "      <td>6500000.0</td>\n",
       "      <td>20000000.0</td>\n",
       "      <td>62400000.0</td>\n",
       "      <td>4.745460e+09</td>\n",
       "    </tr>\n",
       "    <tr>\n",
       "      <th>seed</th>\n",
       "      <td>30524.0</td>\n",
       "      <td>6.189601e+05</td>\n",
       "      <td>1.962535e+06</td>\n",
       "      <td>0.0</td>\n",
       "      <td>100000.0</td>\n",
       "      <td>275000.0</td>\n",
       "      <td>660714.0</td>\n",
       "      <td>2.000000e+08</td>\n",
       "    </tr>\n",
       "    <tr>\n",
       "      <th>venture</th>\n",
       "      <td>55494.0</td>\n",
       "      <td>1.110852e+07</td>\n",
       "      <td>8.217658e+07</td>\n",
       "      <td>0.0</td>\n",
       "      <td>2000000.0</td>\n",
       "      <td>5000000.0</td>\n",
       "      <td>10500000.0</td>\n",
       "      <td>1.760000e+10</td>\n",
       "    </tr>\n",
       "  </tbody>\n",
       "</table>\n",
       "</div>"
      ],
      "text/plain": [
       "                   raised_amount_usd                                   \\\n",
       "                               count          mean           std  min   \n",
       "funding_round_type                                                      \n",
       "angel                         6094.0  8.455620e+05  6.616035e+06  0.0   \n",
       "private_equity                2285.0  6.516649e+07  1.833563e+08  0.0   \n",
       "seed                         30524.0  6.189601e+05  1.962535e+06  0.0   \n",
       "venture                      55494.0  1.110852e+07  8.217658e+07  0.0   \n",
       "\n",
       "                                                                     \n",
       "                          25%         50%         75%           max  \n",
       "funding_round_type                                                   \n",
       "angel                200000.0    400000.0    750000.0  4.945120e+08  \n",
       "private_equity      6500000.0  20000000.0  62400000.0  4.745460e+09  \n",
       "seed                 100000.0    275000.0    660714.0  2.000000e+08  \n",
       "venture             2000000.0   5000000.0  10500000.0  1.760000e+10  "
      ]
     },
     "execution_count": 16,
     "metadata": {},
     "output_type": "execute_result"
    }
   ],
   "source": [
    "master_frame.groupby('funding_round_type').describe()"
   ]
  },
  {
   "cell_type": "markdown",
   "metadata": {},
   "source": [
    "### Checkpoint 3: Country Analysis\n",
    "\n",
    "#### Data Prep\n",
    "- Consider only Venture type of funding for further analysis"
   ]
  },
  {
   "cell_type": "code",
   "execution_count": 17,
   "metadata": {},
   "outputs": [],
   "source": [
    "master_frame = master_frame[master_frame['funding_round_type'] == 'venture']"
   ]
  },
  {
   "cell_type": "markdown",
   "metadata": {},
   "source": [
    "#### Ask 1\n",
    "For the chosen investment type, make a data frame named **top9** with the top nine countries (based on the total investment amount each country has received)\n",
    "\n",
    "#### Completed\n",
    "See code below"
   ]
  },
  {
   "cell_type": "code",
   "execution_count": 18,
   "metadata": {},
   "outputs": [],
   "source": [
    "grouped_frame = master_frame.groupby('country_code')\n",
    "\n",
    "top_9_countries = grouped_frame.raised_amount_usd.sum().sort_values(ascending=False)[0:9]\n",
    "\n",
    "top9 = master_frame[master_frame['country_code'].isin(list(top_9_countries.keys()))]"
   ]
  },
  {
   "cell_type": "markdown",
   "metadata": {},
   "source": [
    "#### Ask 2\n",
    "Fill up Table 3.1\n",
    "\n",
    "#### Completed\n",
    " 1. Top English-speaking country - USA\n",
    " 2. Second English-speaking country - GBR \n",
    " 3. Third English-speaking country - IND"
   ]
  },
  {
   "cell_type": "code",
   "execution_count": 19,
   "metadata": {},
   "outputs": [
    {
     "data": {
      "text/plain": [
       "country_code\n",
       "USA    4.336758e+11\n",
       "CHN    4.245042e+10\n",
       "GBR    2.148563e+10\n",
       "IND    1.523186e+10\n",
       "CAN    1.003333e+10\n",
       "FRA    7.599537e+09\n",
       "DEU    7.486960e+09\n",
       "ISR    7.477515e+09\n",
       "JPN    3.583677e+09\n",
       "SWE    3.409953e+09\n",
       "NLD    3.234404e+09\n",
       "SGP    3.128918e+09\n",
       "CHE    3.107560e+09\n",
       "BRA    2.265987e+09\n",
       "ESP    1.960831e+09\n",
       "IRL    1.931131e+09\n",
       "RUS    1.690426e+09\n",
       "AUS    1.412935e+09\n",
       "DNK    1.353311e+09\n",
       "FIN    1.148200e+09\n",
       "BEL    1.100542e+09\n",
       "KOR    1.064988e+09\n",
       "NOR    9.911924e+08\n",
       "MYS    9.130588e+08\n",
       "HKG    8.762670e+08\n",
       "TUR    6.890975e+08\n",
       "AUT    6.859550e+08\n",
       "TWN    6.789795e+08\n",
       "ITA    5.382894e+08\n",
       "NZL    4.583164e+08\n",
       "           ...     \n",
       "TTO    1.350000e+07\n",
       "LIE    1.309172e+07\n",
       "MNE    1.220000e+07\n",
       "BGD    1.200200e+07\n",
       "KAZ    1.100000e+07\n",
       "RWA    1.000000e+07\n",
       "BAH    8.900000e+06\n",
       "MUS    6.500000e+06\n",
       "CMR    5.359561e+06\n",
       "MOZ    5.000000e+06\n",
       "BHR    5.000000e+06\n",
       "MKD    5.000000e+06\n",
       "CRI    5.000000e+06\n",
       "PSE    5.000000e+06\n",
       "GGY    3.960000e+06\n",
       "TUN    3.920000e+06\n",
       "SEN    2.860000e+06\n",
       "HRV    2.633669e+06\n",
       "UGA    2.500000e+06\n",
       "PER    2.469270e+06\n",
       "BWA    2.250000e+06\n",
       "LAO    2.100000e+06\n",
       "PAN    2.100000e+06\n",
       "MAR    1.600000e+06\n",
       "PRI    1.441901e+06\n",
       "ECU    9.658500e+05\n",
       "MCO    6.570000e+05\n",
       "SAU    5.000000e+05\n",
       "GTM    3.000000e+05\n",
       "MMR    2.000000e+05\n",
       "Name: raised_amount_usd, Length: 103, dtype: float64"
      ]
     },
     "execution_count": 19,
     "metadata": {},
     "output_type": "execute_result"
    }
   ],
   "source": [
    "grouped_frame.raised_amount_usd.sum().sort_values(ascending=False)"
   ]
  },
  {
   "cell_type": "markdown",
   "metadata": {},
   "source": [
    "### Checkpoint 4: Sector Analysis 1\n",
    "\n",
    "Get mapping data into Python"
   ]
  },
  {
   "cell_type": "code",
   "execution_count": 20,
   "metadata": {},
   "outputs": [],
   "source": [
    "orig_mapping_data = pd.read_csv(\"./mapping.csv\", header=0) "
   ]
  },
  {
   "cell_type": "markdown",
   "metadata": {},
   "source": [
    "Since each category_list value must be mapped to one of 8 sectors, remove rows where sector is not mapped to any of the 8 sectors\n",
    "\n",
    "Only 1 such row exists; remove it; and remove column 'Blanks'"
   ]
  },
  {
   "cell_type": "code",
   "execution_count": 21,
   "metadata": {},
   "outputs": [],
   "source": [
    "orig_mapping_data = orig_mapping_data[orig_mapping_data['Blanks'] != 1]\n",
    "orig_mapping_data.drop(['Blanks'], axis=1, inplace=True)"
   ]
  },
  {
   "cell_type": "markdown",
   "metadata": {},
   "source": [
    "Change mapping data structure such that each category_list value has one sector value"
   ]
  },
  {
   "cell_type": "code",
   "execution_count": 22,
   "metadata": {},
   "outputs": [],
   "source": [
    "# extract category_list separately\n",
    "category_list = orig_mapping_data['category_list']\n",
    "\n",
    "# from all other columns in the dataset, extract column with value 1 -- we can use idxmax since only sector corresponding to category_list value will have value 1; others will have value 0; so idxmax will return column name (sector) corresponding to value 1\n",
    "corresponding_sector = orig_mapping_data.loc[:, orig_mapping_data.columns != 'category_list'].idxmax(axis=1)\n",
    "\n",
    "# combine the two series\n",
    "clean_mapping_data = pd.DataFrame(dict(primary_sector=category_list, main_sector =corresponding_sector))"
   ]
  },
  {
   "cell_type": "markdown",
   "metadata": {},
   "source": [
    "Just reviewing the mapping dataset, observed that in some rows the string 'na' within column primary_sector is replaced with '0'; fix this"
   ]
  },
  {
   "cell_type": "code",
   "execution_count": 23,
   "metadata": {},
   "outputs": [],
   "source": [
    "clean_mapping_data['primary_sector'] = clean_mapping_data['primary_sector'].apply(lambda x:x.replace('0','na'))"
   ]
  },
  {
   "cell_type": "markdown",
   "metadata": {},
   "source": [
    "Extract the primary sector of each category list from the category_list column in the master_frame dataset\n",
    "\n",
    "<b>Note:</b> Making a judgment call to remove rows where category_list is null, since rows where category_list is null can't have a non-trivial primary sector. As an analyst, my opinion is that it does not make sense to impute missing values with *mode* of category_list; we have no indication that such imputation would make business sense; if done, such imputation may actually create noise"
   ]
  },
  {
   "cell_type": "code",
   "execution_count": 24,
   "metadata": {},
   "outputs": [
    {
     "name": "stderr",
     "output_type": "stream",
     "text": [
      "/Users/stray/miniconda3/lib/python3.7/site-packages/ipykernel_launcher.py:5: SettingWithCopyWarning: \n",
      "A value is trying to be set on a copy of a slice from a DataFrame.\n",
      "Try using .loc[row_indexer,col_indexer] = value instead\n",
      "\n",
      "See the caveats in the documentation: http://pandas.pydata.org/pandas-docs/stable/indexing.html#indexing-view-versus-copy\n",
      "  \"\"\"\n"
     ]
    }
   ],
   "source": [
    "# since rows where category_list is null can't have a non-trivial primary sector, exclude these rows; also does not make sense to impute missing values with mode of category_list; we have no indication that such imputation would make business sense; if done, such imputation may actually create noise\n",
    "master_frame = master_frame[master_frame['category_list'].notnull()]\n",
    "\n",
    "# extract primary sector and add the same as another column in the dataset\n",
    "master_frame['primary_sector'] = master_frame['category_list'].apply(lambda x: x.split(\"|\")[0])"
   ]
  },
  {
   "cell_type": "markdown",
   "metadata": {},
   "source": [
    "Get main sector for each observation in master_frame by mapping with clean_mapping_data"
   ]
  },
  {
   "cell_type": "code",
   "execution_count": 25,
   "metadata": {
    "scrolled": false
   },
   "outputs": [],
   "source": [
    "master_frame = master_frame.join(clean_mapping_data.set_index('primary_sector'), on='primary_sector', how = 'left')"
   ]
  },
  {
   "cell_type": "code",
   "execution_count": 26,
   "metadata": {},
   "outputs": [
    {
     "data": {
      "text/html": [
       "<div>\n",
       "<style scoped>\n",
       "    .dataframe tbody tr th:only-of-type {\n",
       "        vertical-align: middle;\n",
       "    }\n",
       "\n",
       "    .dataframe tbody tr th {\n",
       "        vertical-align: top;\n",
       "    }\n",
       "\n",
       "    .dataframe thead th {\n",
       "        text-align: right;\n",
       "    }\n",
       "</style>\n",
       "<table border=\"1\" class=\"dataframe\">\n",
       "  <thead>\n",
       "    <tr style=\"text-align: right;\">\n",
       "      <th></th>\n",
       "      <th>company_permalink</th>\n",
       "      <th>funding_round_permalink</th>\n",
       "      <th>funding_round_type</th>\n",
       "      <th>funding_round_code</th>\n",
       "      <th>funded_at</th>\n",
       "      <th>raised_amount_usd</th>\n",
       "      <th>permalink</th>\n",
       "      <th>name</th>\n",
       "      <th>homepage_url</th>\n",
       "      <th>category_list</th>\n",
       "      <th>status</th>\n",
       "      <th>country_code</th>\n",
       "      <th>state_code</th>\n",
       "      <th>region</th>\n",
       "      <th>city</th>\n",
       "      <th>founded_at</th>\n",
       "      <th>primary_sector</th>\n",
       "      <th>main_sector</th>\n",
       "    </tr>\n",
       "  </thead>\n",
       "  <tbody>\n",
       "    <tr>\n",
       "      <th>0</th>\n",
       "      <td>/organization/-fame</td>\n",
       "      <td>/funding-round/9a01d05418af9f794eebff7ace91f638</td>\n",
       "      <td>venture</td>\n",
       "      <td>B</td>\n",
       "      <td>05-01-2015</td>\n",
       "      <td>10000000.0</td>\n",
       "      <td>/organization/-fame</td>\n",
       "      <td>#fame</td>\n",
       "      <td>http://livfame.com</td>\n",
       "      <td>Media</td>\n",
       "      <td>operating</td>\n",
       "      <td>IND</td>\n",
       "      <td>16</td>\n",
       "      <td>Mumbai</td>\n",
       "      <td>Mumbai</td>\n",
       "      <td>NaN</td>\n",
       "      <td>Media</td>\n",
       "      <td>Entertainment</td>\n",
       "    </tr>\n",
       "    <tr>\n",
       "      <th>1</th>\n",
       "      <td>/organization/-qounter</td>\n",
       "      <td>/funding-round/22dacff496eb7acb2b901dec1dfe5633</td>\n",
       "      <td>venture</td>\n",
       "      <td>A</td>\n",
       "      <td>14-10-2014</td>\n",
       "      <td>5000000.0</td>\n",
       "      <td>/organization/-qounter</td>\n",
       "      <td>:Qounter</td>\n",
       "      <td>http://www.qounter.com</td>\n",
       "      <td>Application Platforms|Real Time|Social Network...</td>\n",
       "      <td>operating</td>\n",
       "      <td>USA</td>\n",
       "      <td>DE</td>\n",
       "      <td>DE - Other</td>\n",
       "      <td>Delaware City</td>\n",
       "      <td>04-09-2014</td>\n",
       "      <td>Application Platforms</td>\n",
       "      <td>News, Search and Messaging</td>\n",
       "    </tr>\n",
       "    <tr>\n",
       "      <th>3</th>\n",
       "      <td>/organization/-the-one-of-them-inc-</td>\n",
       "      <td>/funding-round/650b8f704416801069bb178a1418776b</td>\n",
       "      <td>venture</td>\n",
       "      <td>B</td>\n",
       "      <td>30-01-2014</td>\n",
       "      <td>3406878.0</td>\n",
       "      <td>/organization/-the-one-of-them-inc-</td>\n",
       "      <td>(THE) ONE of THEM,Inc.</td>\n",
       "      <td>http://oneofthem.jp</td>\n",
       "      <td>Apps|Games|Mobile</td>\n",
       "      <td>operating</td>\n",
       "      <td>NaN</td>\n",
       "      <td>NaN</td>\n",
       "      <td>NaN</td>\n",
       "      <td>NaN</td>\n",
       "      <td>NaN</td>\n",
       "      <td>Apps</td>\n",
       "      <td>News, Search and Messaging</td>\n",
       "    </tr>\n",
       "    <tr>\n",
       "      <th>4</th>\n",
       "      <td>/organization/0-6-com</td>\n",
       "      <td>/funding-round/5727accaeaa57461bd22a9bdd945382d</td>\n",
       "      <td>venture</td>\n",
       "      <td>A</td>\n",
       "      <td>19-03-2008</td>\n",
       "      <td>2000000.0</td>\n",
       "      <td>/organization/0-6-com</td>\n",
       "      <td>0-6.com</td>\n",
       "      <td>http://www.0-6.com</td>\n",
       "      <td>Curated Web</td>\n",
       "      <td>operating</td>\n",
       "      <td>CHN</td>\n",
       "      <td>22</td>\n",
       "      <td>Beijing</td>\n",
       "      <td>Beijing</td>\n",
       "      <td>01-01-2007</td>\n",
       "      <td>Curated Web</td>\n",
       "      <td>News, Search and Messaging</td>\n",
       "    </tr>\n",
       "    <tr>\n",
       "      <th>5</th>\n",
       "      <td>/organization/004-technologies</td>\n",
       "      <td>/funding-round/1278dd4e6a37fa4b7d7e06c21b3c1830</td>\n",
       "      <td>venture</td>\n",
       "      <td>NaN</td>\n",
       "      <td>24-07-2014</td>\n",
       "      <td>5000000.0</td>\n",
       "      <td>/organization/004-technologies</td>\n",
       "      <td>004 Technologies</td>\n",
       "      <td>http://004gmbh.de/en/004-interact</td>\n",
       "      <td>Software</td>\n",
       "      <td>operating</td>\n",
       "      <td>USA</td>\n",
       "      <td>IL</td>\n",
       "      <td>Springfield, Illinois</td>\n",
       "      <td>Champaign</td>\n",
       "      <td>01-01-2010</td>\n",
       "      <td>Software</td>\n",
       "      <td>Others</td>\n",
       "    </tr>\n",
       "  </tbody>\n",
       "</table>\n",
       "</div>"
      ],
      "text/plain": [
       "                     company_permalink  \\\n",
       "0                  /organization/-fame   \n",
       "1               /organization/-qounter   \n",
       "3  /organization/-the-one-of-them-inc-   \n",
       "4                /organization/0-6-com   \n",
       "5       /organization/004-technologies   \n",
       "\n",
       "                           funding_round_permalink funding_round_type  \\\n",
       "0  /funding-round/9a01d05418af9f794eebff7ace91f638            venture   \n",
       "1  /funding-round/22dacff496eb7acb2b901dec1dfe5633            venture   \n",
       "3  /funding-round/650b8f704416801069bb178a1418776b            venture   \n",
       "4  /funding-round/5727accaeaa57461bd22a9bdd945382d            venture   \n",
       "5  /funding-round/1278dd4e6a37fa4b7d7e06c21b3c1830            venture   \n",
       "\n",
       "  funding_round_code   funded_at  raised_amount_usd  \\\n",
       "0                  B  05-01-2015         10000000.0   \n",
       "1                  A  14-10-2014          5000000.0   \n",
       "3                  B  30-01-2014          3406878.0   \n",
       "4                  A  19-03-2008          2000000.0   \n",
       "5                NaN  24-07-2014          5000000.0   \n",
       "\n",
       "                             permalink                    name  \\\n",
       "0                  /organization/-fame                   #fame   \n",
       "1               /organization/-qounter                :Qounter   \n",
       "3  /organization/-the-one-of-them-inc-  (THE) ONE of THEM,Inc.   \n",
       "4                /organization/0-6-com                 0-6.com   \n",
       "5       /organization/004-technologies        004 Technologies   \n",
       "\n",
       "                        homepage_url  \\\n",
       "0                 http://livfame.com   \n",
       "1             http://www.qounter.com   \n",
       "3                http://oneofthem.jp   \n",
       "4                 http://www.0-6.com   \n",
       "5  http://004gmbh.de/en/004-interact   \n",
       "\n",
       "                                       category_list     status country_code  \\\n",
       "0                                              Media  operating          IND   \n",
       "1  Application Platforms|Real Time|Social Network...  operating          USA   \n",
       "3                                  Apps|Games|Mobile  operating          NaN   \n",
       "4                                        Curated Web  operating          CHN   \n",
       "5                                           Software  operating          USA   \n",
       "\n",
       "  state_code                 region           city  founded_at  \\\n",
       "0         16                 Mumbai         Mumbai         NaN   \n",
       "1         DE             DE - Other  Delaware City  04-09-2014   \n",
       "3        NaN                    NaN            NaN         NaN   \n",
       "4         22                Beijing        Beijing  01-01-2007   \n",
       "5         IL  Springfield, Illinois      Champaign  01-01-2010   \n",
       "\n",
       "          primary_sector                 main_sector  \n",
       "0                  Media               Entertainment  \n",
       "1  Application Platforms  News, Search and Messaging  \n",
       "3                   Apps  News, Search and Messaging  \n",
       "4            Curated Web  News, Search and Messaging  \n",
       "5               Software                      Others  "
      ]
     },
     "execution_count": 26,
     "metadata": {},
     "output_type": "execute_result"
    }
   ],
   "source": [
    "master_frame.head()"
   ]
  },
  {
   "cell_type": "markdown",
   "metadata": {},
   "source": [
    "### Checkpoint 5: Sector Analysis 2\n",
    "\n",
    "#### Ask 1\n",
    "Create three separate data frames D1, D2 and D3 for each of the three countries containing the observations of funding type FT falling within the 5-15 million USD range. The three data frames should contain\n",
    "\n",
    "- All the columns of the master_frame along with the primary sector and the main sector\n",
    "- The total number (or count) of investments for each main sector in a separate column\n",
    "- The total amount invested in each main sector in a separate column"
   ]
  },
  {
   "cell_type": "code",
   "execution_count": 27,
   "metadata": {
    "scrolled": true
   },
   "outputs": [],
   "source": [
    "# build D1\n",
    "\n",
    "# first filter out records pertaining to relevant country\n",
    "D1 = master_frame[master_frame['country_code'] == 'USA']\n",
    "\n",
    "# exclude records where funding amount not in range 5 - 15 M USD\n",
    "D1 = D1[(D1['raised_amount_usd'] >= 5000000) & (D1['raised_amount_usd'] <= 15000000)]\n",
    "\n",
    "# group by 'main_sector' for finding total num investments and amount invested by main sector\n",
    "D1_sector_group = D1.groupby('main_sector')\n",
    "\n",
    "# get total num investments by main_sector; note that funding_round_permalink is primary key\n",
    "tot_num_investments = pd.DataFrame(dict(tot_num_investments = D1_sector_group.funding_round_permalink.count()))\n",
    "\n",
    "# add tot_num_investments to D1\n",
    "D1 = D1.join(tot_num_investments, on = 'main_sector')\n",
    "\n",
    "# get total amount invested by main_sector\n",
    "tot_amt_invested = pd.DataFrame(dict(tot_amt_invested = D1_sector_group.raised_amount_usd.sum()))\n",
    "\n",
    "# add tot_amt_invested to D1\n",
    "D1 = D1.join(tot_amt_invested, on = 'main_sector')\n",
    "\n",
    "\n",
    "# build D2\n",
    "\n",
    "# first filter out records pertaining to relevant country\n",
    "D2 = master_frame[master_frame['country_code'] == 'GBR']\n",
    "\n",
    "# exclude records where funding amount not in range 5 - 15 M USD\n",
    "D2 = D2[(D2['raised_amount_usd'] >= 5000000) & (D2['raised_amount_usd'] <= 15000000)]\n",
    "\n",
    "# group by 'main_sector' for finding total num investments and amount invested by main sector\n",
    "D2_sector_group = D2.groupby('main_sector')\n",
    "\n",
    "# get total num investments by main_sector; note that funding_round_permalink is primary key\n",
    "tot_num_investments = pd.DataFrame(dict(tot_num_investments = D2_sector_group.funding_round_permalink.count()))\n",
    "\n",
    "# add tot_num_investments to D2\n",
    "D2 = D2.join(tot_num_investments, on = 'main_sector')\n",
    "\n",
    "# get total amount invested by main_sector\n",
    "tot_amt_invested = pd.DataFrame(dict(tot_amt_invested = D2_sector_group.raised_amount_usd.sum()))\n",
    "\n",
    "# add tot_amt_invested to D2\n",
    "D2 = D2.join(tot_amt_invested, on = 'main_sector')\n",
    "\n",
    "# build D3\n",
    "\n",
    "# first filter out records pertaining to relevant country\n",
    "D3 = master_frame[master_frame['country_code'] == 'IND']\n",
    "\n",
    "# exclude records where funding amount not in range 5 - 15 M USD\n",
    "D3 = D3[(D3['raised_amount_usd'] >= 5000000) & (D3['raised_amount_usd'] <= 15000000)]\n",
    "\n",
    "# group by 'main_sector' for finding total num investments and amount invested by main sector\n",
    "D3_sector_group = D3.groupby('main_sector')\n",
    "\n",
    "# get total num investments by main_sector; note that funding_round_permalink is primary key\n",
    "tot_num_investments = pd.DataFrame(dict(tot_num_investments = D3_sector_group.funding_round_permalink.count()))\n",
    "\n",
    "# add tot_num_investments to D3\n",
    "D3 = D3.join(tot_num_investments, on = 'main_sector')\n",
    "\n",
    "# get total amount invested by main_sector\n",
    "tot_amt_invested = pd.DataFrame(dict(tot_amt_invested = D3_sector_group.raised_amount_usd.sum()))\n",
    "\n",
    "# add tot_amt_invested to D3\n",
    "D3 = D3.join(tot_amt_invested, on = 'main_sector')"
   ]
  },
  {
   "cell_type": "markdown",
   "metadata": {},
   "source": [
    "#### Ask 2\n",
    "Fill up table 5.1"
   ]
  },
  {
   "cell_type": "markdown",
   "metadata": {},
   "source": [
    "##### Question 1\n",
    "Total number of Investments (count)"
   ]
  },
  {
   "cell_type": "code",
   "execution_count": 28,
   "metadata": {},
   "outputs": [
    {
     "name": "stdout",
     "output_type": "stream",
     "text": [
      "USA 14155\n",
      "GBR 845\n",
      "IND 493\n"
     ]
    }
   ],
   "source": [
    "# since funding_round_permalink is the primary key use it for analysis\n",
    "\n",
    "print('USA ' + str(D1.funding_round_permalink.nunique()))\n",
    "print('GBR ' + str(D2.funding_round_permalink.nunique()))\n",
    "print('IND ' + str(D3.funding_round_permalink.nunique()))"
   ]
  },
  {
   "cell_type": "markdown",
   "metadata": {},
   "source": [
    "##### Question 2\n",
    "Total amount of investment (USD)"
   ]
  },
  {
   "cell_type": "code",
   "execution_count": 29,
   "metadata": {},
   "outputs": [
    {
     "name": "stdout",
     "output_type": "stream",
     "text": [
      "USA 118221584223.0\n",
      "GBR 6499078691.0\n",
      "IND 3774543602.0\n"
     ]
    }
   ],
   "source": [
    "print('USA ' + str(D1.raised_amount_usd.sum()))\n",
    "print('GBR ' + str(D2.raised_amount_usd.sum()))\n",
    "print('IND ' + str(D3.raised_amount_usd.sum()))"
   ]
  },
  {
   "cell_type": "markdown",
   "metadata": {},
   "source": [
    "##### Question 3\n",
    "Top Sector name (no. of investment-wise)"
   ]
  },
  {
   "cell_type": "code",
   "execution_count": 30,
   "metadata": {},
   "outputs": [
    {
     "name": "stdout",
     "output_type": "stream",
     "text": [
      "USA Others\n",
      "GBR Others\n",
      "IND Others\n"
     ]
    }
   ],
   "source": [
    "# since funding_round_permalink is the primary key use it for analysis\n",
    "\n",
    "D1_top_sector = D1.groupby('main_sector').funding_round_permalink.count().sort_values(ascending = False).index[0]\n",
    "D2_top_sector = D2.groupby('main_sector').funding_round_permalink.count().sort_values(ascending = False).index[0]\n",
    "D3_top_sector = D3.groupby('main_sector').funding_round_permalink.count().sort_values(ascending = False).index[0]\n",
    "\n",
    "print('USA ' + D1_top_sector)\n",
    "print('GBR ' + D2_top_sector)\n",
    "print('IND ' + D3_top_sector)"
   ]
  },
  {
   "cell_type": "markdown",
   "metadata": {},
   "source": [
    "##### Question 4\n",
    "Second Sector name (no. of investment-wise)"
   ]
  },
  {
   "cell_type": "code",
   "execution_count": 31,
   "metadata": {},
   "outputs": [
    {
     "name": "stdout",
     "output_type": "stream",
     "text": [
      "USA Social, Finance, Analytics, Advertising\n",
      "GBR Social, Finance, Analytics, Advertising\n",
      "IND Social, Finance, Analytics, Advertising\n"
     ]
    }
   ],
   "source": [
    "# since funding_round_permalink is the primary key use it for analysis\n",
    "\n",
    "D1_second_sector = D1.groupby('main_sector').funding_round_permalink.count().sort_values(ascending = False).index[1]\n",
    "D2_second_sector = D2.groupby('main_sector').funding_round_permalink.count().sort_values(ascending = False).index[1]\n",
    "D3_second_sector = D3.groupby('main_sector').funding_round_permalink.count().sort_values(ascending = False).index[1]\n",
    "\n",
    "print('USA ' + D1_second_sector)\n",
    "print('GBR ' + D2_second_sector)\n",
    "print('IND ' + D3_second_sector)"
   ]
  },
  {
   "cell_type": "markdown",
   "metadata": {},
   "source": [
    "##### Question 5\n",
    "Third Sector name (no. of investment-wise)"
   ]
  },
  {
   "cell_type": "code",
   "execution_count": 32,
   "metadata": {},
   "outputs": [
    {
     "name": "stdout",
     "output_type": "stream",
     "text": [
      "USA Cleantech / Semiconductors\n",
      "GBR Cleantech / Semiconductors\n",
      "IND News, Search and Messaging\n"
     ]
    }
   ],
   "source": [
    "# since funding_round_permalink is the primary key use it for analysis\n",
    "\n",
    "D1_third_sector = D1.groupby('main_sector').funding_round_permalink.count().sort_values(ascending = False).index[2]\n",
    "D2_third_sector = D2.groupby('main_sector').funding_round_permalink.count().sort_values(ascending = False).index[2]\n",
    "D3_third_sector = D3.groupby('main_sector').funding_round_permalink.count().sort_values(ascending = False).index[2]\n",
    "\n",
    "print('USA ' + D1_third_sector)\n",
    "print('GBR ' + D2_third_sector)\n",
    "print('IND ' + D3_third_sector)"
   ]
  },
  {
   "cell_type": "markdown",
   "metadata": {},
   "source": [
    "##### Question 6\n",
    "Number of investments in top sector (3)"
   ]
  },
  {
   "cell_type": "code",
   "execution_count": 33,
   "metadata": {},
   "outputs": [
    {
     "name": "stdout",
     "output_type": "stream",
     "text": [
      "USA 3403\n",
      "GBR 211\n",
      "IND 158\n"
     ]
    }
   ],
   "source": [
    "print('USA ' + str(D1.groupby('main_sector').funding_round_permalink.count().sort_values(ascending = False)[0]))\n",
    "print('GBR ' + str(D2.groupby('main_sector').funding_round_permalink.count().sort_values(ascending = False)[0]))\n",
    "print('IND ' + str(D3.groupby('main_sector').funding_round_permalink.count().sort_values(ascending = False)[0]))"
   ]
  },
  {
   "cell_type": "markdown",
   "metadata": {},
   "source": [
    "##### Question 7\n",
    "Number of investments in second sector (4)"
   ]
  },
  {
   "cell_type": "code",
   "execution_count": 34,
   "metadata": {},
   "outputs": [
    {
     "name": "stdout",
     "output_type": "stream",
     "text": [
      "USA 3290\n",
      "GBR 193\n",
      "IND 106\n"
     ]
    }
   ],
   "source": [
    "print('USA ' + str(D1.groupby('main_sector').funding_round_permalink.count().sort_values(ascending = False)[1]))\n",
    "print('GBR ' + str(D2.groupby('main_sector').funding_round_permalink.count().sort_values(ascending = False)[1]))\n",
    "print('IND ' + str(D3.groupby('main_sector').funding_round_permalink.count().sort_values(ascending = False)[1]))"
   ]
  },
  {
   "cell_type": "markdown",
   "metadata": {},
   "source": [
    "##### Question 8\n",
    "Number of investments in third sector (5)"
   ]
  },
  {
   "cell_type": "code",
   "execution_count": 35,
   "metadata": {},
   "outputs": [
    {
     "name": "stdout",
     "output_type": "stream",
     "text": [
      "USA 2564\n",
      "GBR 151\n",
      "IND 76\n"
     ]
    }
   ],
   "source": [
    "print('USA ' + str(D1.groupby('main_sector').funding_round_permalink.count().sort_values(ascending = False)[2]))\n",
    "print('GBR ' + str(D2.groupby('main_sector').funding_round_permalink.count().sort_values(ascending = False)[2]))\n",
    "print('IND ' + str(D3.groupby('main_sector').funding_round_permalink.count().sort_values(ascending = False)[2]))"
   ]
  },
  {
   "cell_type": "markdown",
   "metadata": {},
   "source": [
    "#### Question 9\n",
    "For point 3 (top sector count-wise), which company received the highest investment?"
   ]
  },
  {
   "cell_type": "code",
   "execution_count": 36,
   "metadata": {},
   "outputs": [
    {
     "name": "stdout",
     "output_type": "stream",
     "text": [
      "USA /organization/virtustream\n",
      "GBR /organization/electric-cloud\n",
      "IND /organization/firstcry-com\n"
     ]
    }
   ],
   "source": [
    "D1_top_grp_company = D1[D1['main_sector'] == D1_top_sector]\\\n",
    ".groupby('company_permalink').raised_amount_usd.sum().sort_values(ascending = False).index[0]\n",
    "D2_top_grp_company = D2[D2['main_sector'] == D2_top_sector]\\\n",
    ".groupby('company_permalink').raised_amount_usd.sum().sort_values(ascending = False).index[0]\n",
    "D3_top_grp_company = D3[D3['main_sector'] == D3_top_sector]\\\n",
    ".groupby('company_permalink').raised_amount_usd.sum().sort_values(ascending = False).index[0]\n",
    "\n",
    "print('USA ' + D1_top_grp_company)\n",
    "print('GBR ' + D2_top_grp_company)\n",
    "print('IND ' + D3_top_grp_company)"
   ]
  },
  {
   "cell_type": "markdown",
   "metadata": {},
   "source": [
    "#### Question 10\n",
    "For point 4 (second best sector count-wise), which company received the highest investment?"
   ]
  },
  {
   "cell_type": "code",
   "execution_count": 37,
   "metadata": {},
   "outputs": [
    {
     "name": "stdout",
     "output_type": "stream",
     "text": [
      "USA /organization/shotspotter\n",
      "GBR /organization/zopa\n",
      "IND /organization/manthan-systems\n"
     ]
    }
   ],
   "source": [
    "D1_second_grp_company = D1[D1['main_sector'] == D1_second_sector]\\\n",
    ".groupby('company_permalink').raised_amount_usd.sum().sort_values(ascending = False).index[0]\n",
    "D2_second_grp_company = D2[D2['main_sector'] == D2_second_sector]\\\n",
    ".groupby('company_permalink').raised_amount_usd.sum().sort_values(ascending = False).index[0]\n",
    "D3_second_grp_company = D3[D3['main_sector'] == D3_second_sector]\\\n",
    ".groupby('company_permalink').raised_amount_usd.sum().sort_values(ascending = False).index[0]\n",
    "\n",
    "print('USA ' + D1_second_grp_company)\n",
    "print('GBR ' + D2_second_grp_company)\n",
    "print('IND ' + D3_second_grp_company)"
   ]
  },
  {
   "cell_type": "markdown",
   "metadata": {},
   "source": [
    "### Checkpoint 6: Plots\n",
    "\n",
    "#### Question 1\n",
    "\n",
    "A plot showing the fraction of total investments (globally) in venture, seed, and private equity, and the average amount of investment in each funding type. This chart should make it clear that a certain funding type (FT) is best suited for Spark Funds.\n",
    "\n",
    "#### Answer 1\n",
    "Pls see code below\n",
    "\n",
    "#### Important\n",
    "Some data prep steps are repeated since a copy of the relevant cleaned dataset is now unavailable"
   ]
  },
  {
   "cell_type": "code",
   "execution_count": 38,
   "metadata": {},
   "outputs": [
    {
     "name": "stdout",
     "output_type": "stream",
     "text": [
      "Using matplotlib backend: MacOSX\n"
     ]
    },
    {
     "name": "stderr",
     "output_type": "stream",
     "text": [
      "/Users/stray/miniconda3/lib/python3.7/site-packages/ipykernel_launcher.py:13: SettingWithCopyWarning: \n",
      "A value is trying to be set on a copy of a slice from a DataFrame\n",
      "\n",
      "See the caveats in the documentation: http://pandas.pydata.org/pandas-docs/stable/indexing.html#indexing-view-versus-copy\n",
      "  del sys.path[0]\n",
      "/Users/stray/miniconda3/lib/python3.7/site-packages/pandas/core/generic.py:8682: SettingWithCopyWarning: \n",
      "A value is trying to be set on a copy of a slice from a DataFrame\n",
      "\n",
      "See the caveats in the documentation: http://pandas.pydata.org/pandas-docs/stable/indexing.html#indexing-view-versus-copy\n",
      "  self._update_inplace(new_data)\n",
      "/Users/stray/miniconda3/lib/python3.7/site-packages/IPython/core/interactiveshell.py:3296: SettingWithCopyWarning: \n",
      "A value is trying to be set on a copy of a slice from a DataFrame\n",
      "\n",
      "See the caveats in the documentation: http://pandas.pydata.org/pandas-docs/stable/indexing.html#indexing-view-versus-copy\n",
      "  exec(code_obj, self.user_global_ns, self.user_ns)\n",
      "/Users/stray/miniconda3/lib/python3.7/site-packages/ipykernel_launcher.py:17: SettingWithCopyWarning: \n",
      "A value is trying to be set on a copy of a slice from a DataFrame\n",
      "\n",
      "See the caveats in the documentation: http://pandas.pydata.org/pandas-docs/stable/indexing.html#indexing-view-versus-copy\n",
      "/Users/stray/miniconda3/lib/python3.7/site-packages/ipykernel_launcher.py:21: SettingWithCopyWarning: \n",
      "A value is trying to be set on a copy of a slice from a DataFrame\n",
      "\n",
      "See the caveats in the documentation: http://pandas.pydata.org/pandas-docs/stable/indexing.html#indexing-view-versus-copy\n"
     ]
    }
   ],
   "source": [
    "%matplotlib\n",
    "\n",
    "# subset funding data to get observations corresponding to 'venture','seed', and 'private_equity' only\n",
    "plot1_data = orig_fund_rounds_data[orig_fund_rounds_data['funding_round_type']\\\n",
    "                                   .isin(['venture','seed','private_equity'])]\n",
    "\n",
    "# group by funding_round_type for plotting\n",
    "grouped_plot1_data = plot1_data.groupby('funding_round_type')\n",
    "\n",
    "# impute missing data in funding dataset\n",
    "plot1_data['raised_amount_usd']\\\n",
    "[(plot1_data['funding_round_type'] == 'private_equity') & (plot1_data['raised_amount_usd'].isnull() == True)] = \\\n",
    "grouped_plot1_data.raised_amount_usd.median()['private_equity']\n",
    "\n",
    "plot1_data['raised_amount_usd']\\\n",
    "[(plot1_data['funding_round_type'] == 'seed') & (plot1_data['raised_amount_usd'].isnull() == True)] = \\\n",
    "grouped_plot1_data.raised_amount_usd.median()['seed']\n",
    "\n",
    "plot1_data['raised_amount_usd']\\\n",
    "[(plot1_data['funding_round_type'] == 'venture') & (plot1_data['raised_amount_usd'].isnull() == True)] = \\\n",
    "grouped_plot1_data.raised_amount_usd.median()['venture']\n",
    "\n",
    "# extract data to be plotted\n",
    "plot1_y1 = np.round(grouped_plot1_data.company_permalink.count() / plot1_data.company_permalink.count() * 100, 2)\n",
    "plot1_y2 = np.round(grouped_plot1_data.raised_amount_usd.mean() / 1000000, 2)\n",
    "\n",
    "plot1_data_extract = pd.concat([plot1_y1,plot1_y2], axis =1)\n",
    "plot1_data_extract['funding_round_type'] = plot1_data_extract.index\n",
    "#plot1_data_extract.reset_index()\n",
    "plot1_data_extract.columns = \\\n",
    "['Fraction% of Total Investments Globally', 'Avg Investment Amt, USD M', 'Funding Round Type']\n",
    "\n",
    "plot1_data_melted = \\\n",
    "pd.melt(plot1_data_extract, id_vars=['Funding Round Type'], var_name=\"Metric\", value_name=\"Metric Value\")\n",
    "\n",
    "# Plot\n",
    "fig, ax1 = plt.subplots()\n",
    "graph = sns.barplot(x=plot1_data_melted['Funding Round Type'], y=\"Metric Value\", hue=\"Metric\",\\\n",
    "                data=plot1_data_melted, ax=ax1)\n",
    "\n",
    "ax1.set_ylabel('Fraction% of Total Investments Globally')\n",
    "ax2 = ax1.twinx()\n",
    "ax2.set_ylabel('Avg Investment Amt, USD M')\n",
    "\n",
    "ax1.set_ylim(0, 100)\n",
    "ax2.set_ylim(0, 100)\n",
    "\n",
    "plt.show()"
   ]
  },
  {
   "cell_type": "markdown",
   "metadata": {},
   "source": [
    "#### Question 2\n",
    "A plot showing the top 9 countries against the total amount of investments of funding type FT. This should make the top 3 countries (Country 1, Country 2, and Country 3) very clear.\n",
    "\n",
    "#### Answer 2\n",
    "See code below"
   ]
  },
  {
   "cell_type": "code",
   "execution_count": 39,
   "metadata": {},
   "outputs": [],
   "source": [
    "# get data for graph; scale funding amount in Millions\n",
    "\n",
    "plot2_data = top9.groupby('country_code').sum().sort_values(by='raised_amount_usd', ascending=False)/100000\n",
    "plot2_data.index.name = 'Country'\n",
    "plot2_data.columns = ['Total Investment Amt, USD M']\n",
    "\n",
    "# set up plot\n",
    "sns.set(rc={'figure.figsize':(9,9)})\n",
    "sns.barplot(x=plot2_data.index, y=\"Total Investment Amt, USD M\", data=plot2_data)\n",
    "\n",
    "plt.show()"
   ]
  },
  {
   "cell_type": "markdown",
   "metadata": {},
   "source": [
    "#### Question 3\n",
    "A plot showing the number of investments in the top 3 sectors of the top 3 countries on one chart (for the chosen investment type FT). This plot should clearly display the top 3 sectors each in Country 1, Country 2, and Country 3.\n",
    "\n",
    "#### Answer 3\n",
    "See code below"
   ]
  },
  {
   "cell_type": "code",
   "execution_count": 46,
   "metadata": {},
   "outputs": [
    {
     "name": "stderr",
     "output_type": "stream",
     "text": [
      "/Users/stray/miniconda3/lib/python3.7/site-packages/ipykernel_launcher.py:20: SettingWithCopyWarning: \n",
      "A value is trying to be set on a copy of a slice from a DataFrame\n",
      "\n",
      "See the caveats in the documentation: http://pandas.pydata.org/pandas-docs/stable/indexing.html#indexing-view-versus-copy\n",
      "/Users/stray/miniconda3/lib/python3.7/site-packages/ipykernel_launcher.py:21: SettingWithCopyWarning: \n",
      "A value is trying to be set on a copy of a slice from a DataFrame\n",
      "\n",
      "See the caveats in the documentation: http://pandas.pydata.org/pandas-docs/stable/indexing.html#indexing-view-versus-copy\n",
      "/Users/stray/miniconda3/lib/python3.7/site-packages/ipykernel_launcher.py:22: SettingWithCopyWarning: \n",
      "A value is trying to be set on a copy of a slice from a DataFrame\n",
      "\n",
      "See the caveats in the documentation: http://pandas.pydata.org/pandas-docs/stable/indexing.html#indexing-view-versus-copy\n",
      "/Users/stray/miniconda3/lib/python3.7/site-packages/ipykernel_launcher.py:27: SettingWithCopyWarning: \n",
      "A value is trying to be set on a copy of a slice from a DataFrame\n",
      "\n",
      "See the caveats in the documentation: http://pandas.pydata.org/pandas-docs/stable/indexing.html#indexing-view-versus-copy\n",
      "/Users/stray/miniconda3/lib/python3.7/site-packages/ipykernel_launcher.py:28: SettingWithCopyWarning: \n",
      "A value is trying to be set on a copy of a slice from a DataFrame\n",
      "\n",
      "See the caveats in the documentation: http://pandas.pydata.org/pandas-docs/stable/indexing.html#indexing-view-versus-copy\n",
      "/Users/stray/miniconda3/lib/python3.7/site-packages/ipykernel_launcher.py:29: SettingWithCopyWarning: \n",
      "A value is trying to be set on a copy of a slice from a DataFrame\n",
      "\n",
      "See the caveats in the documentation: http://pandas.pydata.org/pandas-docs/stable/indexing.html#indexing-view-versus-copy\n",
      "/Users/stray/miniconda3/lib/python3.7/site-packages/ipykernel_launcher.py:34: SettingWithCopyWarning: \n",
      "A value is trying to be set on a copy of a slice from a DataFrame\n",
      "\n",
      "See the caveats in the documentation: http://pandas.pydata.org/pandas-docs/stable/indexing.html#indexing-view-versus-copy\n",
      "/Users/stray/miniconda3/lib/python3.7/site-packages/ipykernel_launcher.py:35: SettingWithCopyWarning: \n",
      "A value is trying to be set on a copy of a slice from a DataFrame\n",
      "\n",
      "See the caveats in the documentation: http://pandas.pydata.org/pandas-docs/stable/indexing.html#indexing-view-versus-copy\n",
      "/Users/stray/miniconda3/lib/python3.7/site-packages/ipykernel_launcher.py:36: SettingWithCopyWarning: \n",
      "A value is trying to be set on a copy of a slice from a DataFrame\n",
      "\n",
      "See the caveats in the documentation: http://pandas.pydata.org/pandas-docs/stable/indexing.html#indexing-view-versus-copy\n"
     ]
    }
   ],
   "source": [
    "# get data for graph\n",
    "\n",
    "plot3_data = top9[top9['country_code'].isin(['USA','CHN','GBR'])]\n",
    "plot3_data = plot3_data[['funding_round_permalink','country_code','category_list']]\n",
    "\n",
    "# exclude data where category_list is null; these observations won't correspond to top 3 sectors anyway\n",
    "plot3_data = plot3_data[plot3_data['category_list'].notnull()]\n",
    "\n",
    "# extract primary_sector\n",
    "plot3_data['primary_sector'] = plot3_data['category_list'].apply(lambda x: x.split(\"|\")[0])\n",
    "\n",
    "# get main_sector from mapping file\n",
    "\n",
    "plot3_data = plot3_data.join(clean_mapping_data.set_index('primary_sector'), on='primary_sector', how = 'left')\n",
    "\n",
    "# identify top 3 sectors by country\n",
    "grouped_plot3_data_USA = plot3_data[plot3_data['country_code'] == 'USA'].groupby('main_sector')\n",
    "USA_top3 = pd.DataFrame(grouped_plot3_data_USA.funding_round_permalink.count().sort_values(ascending=False)[0:3])\n",
    "USA_top3['Main Sector'] = 'USA - ' + USA_top3.index\n",
    "USA_top3['Main Sector'][0] = '\\n'.join(textwrap.TextWrapper(width=10).wrap(text=USA_top3['Main Sector'][0]))\n",
    "USA_top3['Main Sector'][1] = '\\n'.join(textwrap.TextWrapper(width=10).wrap(text=USA_top3['Main Sector'][1]))\n",
    "USA_top3['Main Sector'][2] = '\\n'.join(textwrap.TextWrapper(width=10).wrap(text=USA_top3['Main Sector'][2]))\n",
    "                                    \n",
    "grouped_plot3_data_CHN = plot3_data[plot3_data['country_code'] == 'CHN'].groupby('main_sector')\n",
    "CHN_top3 = pd.DataFrame(grouped_plot3_data_CHN.funding_round_permalink.count().sort_values(ascending=False)[0:3])\n",
    "CHN_top3['Main Sector'] = 'CHN - ' + CHN_top3.index\n",
    "CHN_top3['Main Sector'][0] = '\\n'.join(textwrap.TextWrapper(width=10).wrap(text=CHN_top3['Main Sector'][0]))\n",
    "CHN_top3['Main Sector'][1] = '\\n'.join(textwrap.TextWrapper(width=10).wrap(text=CHN_top3['Main Sector'][1]))\n",
    "CHN_top3['Main Sector'][2] = '\\n'.join(textwrap.TextWrapper(width=10).wrap(text=CHN_top3['Main Sector'][2]))\n",
    "\n",
    "grouped_plot3_data_GBR = plot3_data[plot3_data['country_code'] == 'GBR'].groupby('main_sector')\n",
    "GBR_top3 = pd.DataFrame(grouped_plot3_data_GBR.funding_round_permalink.count().sort_values(ascending=False)[0:3])\n",
    "GBR_top3['Main Sector'] = 'GBR - ' + GBR_top3.index\n",
    "GBR_top3['Main Sector'][0] = '\\n'.join(textwrap.TextWrapper(width=10).wrap(text=GBR_top3['Main Sector'][0]))\n",
    "GBR_top3['Main Sector'][1] = '\\n'.join(textwrap.TextWrapper(width=10).wrap(text=GBR_top3['Main Sector'][1]))\n",
    "GBR_top3['Main Sector'][2] = '\\n'.join(textwrap.TextWrapper(width=10).wrap(text=GBR_top3['Main Sector'][2]))\n",
    "\n",
    "# concatenate above 3 datasets into one dataset for plotting\n",
    "\n",
    "cleaned_plot3_data = pd.concat([USA_top3, CHN_top3, GBR_top3], axis = 0).reset_index()\\\n",
    "                                [['funding_round_permalink','Main Sector']]\n",
    "\n",
    "cleaned_plot3_data.columns = ['Num Investments','Main Sector']\n",
    "\n",
    "# set up plot\n",
    "sns.set(rc={'figure.figsize':(10, 10)})\n",
    "g = sns.barplot(x=\"Main Sector\", y=\"Num Investments\", data=cleaned_plot3_data)\n",
    "\n",
    "# show x labels properly\n",
    "for item in g.get_xticklabels():\n",
    "    item.set_rotation(90)\n",
    "\n",
    "plt.show()"
   ]
  }
 ],
 "metadata": {
  "kernelspec": {
   "display_name": "Python 3",
   "language": "python",
   "name": "python3"
  },
  "language_info": {
   "codemirror_mode": {
    "name": "ipython",
    "version": 3
   },
   "file_extension": ".py",
   "mimetype": "text/x-python",
   "name": "python",
   "nbconvert_exporter": "python",
   "pygments_lexer": "ipython3",
   "version": "3.7.3"
  }
 },
 "nbformat": 4,
 "nbformat_minor": 2
}
